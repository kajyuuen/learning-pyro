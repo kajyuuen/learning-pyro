{
 "cells": [
  {
   "cell_type": "code",
   "execution_count": 1,
   "metadata": {},
   "outputs": [],
   "source": [
    "import os\n",
    "\n",
    "import numpy as np\n",
    "import torch\n",
    "import torchvision.datasets as dset\n",
    "import torch.nn as nn\n",
    "import torchvision.transforms as transforms\n",
    "\n",
    "import pyro\n",
    "import pyro.distributions as dist\n",
    "import pyro.contrib.examples.util  # patches torchvision\n",
    "from pyro.infer import SVI, Trace_ELBO\n",
    "from pyro.optim import Adam\n"
   ]
  },
  {
   "cell_type": "code",
   "execution_count": 2,
   "metadata": {},
   "outputs": [],
   "source": [
    "# デバッグに便利なエラーを出力する。重いので、本格的に学習するときはoffにしておく\n",
    "pyro.enable_validation(True) \n",
    "pyro.distributions.enable_validation(False)\n",
    "# seed値の設定\n",
    "pyro.set_rng_seed(0)"
   ]
  },
  {
   "cell_type": "code",
   "execution_count": 3,
   "metadata": {},
   "outputs": [],
   "source": [
    "# mnistのロードとバッチ化\n",
    "def setup_data_loaders(batch_size=128, use_cuda=True):\n",
    "    root = \"./data\"\n",
    "    download = True\n",
    "\n",
    "    trans = transforms.ToTensor() # 正規化\n",
    "    train_set = dset.MNIST(root=root, train=True, transform=trans, download=download)\n",
    "    test_set = dset.MNIST(root=root, train=False, transform=trans)\n",
    "    \n",
    "    kwargs = { 'num_workers': 1, \"pin_memory\": use_cuda }\n",
    "    train_loader = torch.utils.data.DataLoader(dataset=train_set,\n",
    "        batch_size=batch_size, shuffle=True, **kwargs)\n",
    "    test_loader = torch.utils.data.DataLoader(dataset=test_set,\n",
    "        batch_size=batch_size, shuffle=False, **kwargs)\n",
    "    return train_loader, test_loader"
   ]
  },
  {
   "cell_type": "code",
   "execution_count": 4,
   "metadata": {},
   "outputs": [],
   "source": [
    "class Decoder(nn.Module):\n",
    "    def __init__(self, z_dim, hidden_dim):\n",
    "        super().__init__()\n",
    "        \n",
    "        self.fc1 = nn.Linear(z_dim, hidden_dim)\n",
    "        self.fc2_1 = nn.Linear(hidden_dim, 28*28)\n",
    "        \n",
    "        self.softplus = nn.Softplus() # NOTE: Reluだとどうなるのか\n",
    "        self.sigmoid = nn.Sigmoid()\n",
    "    \n",
    "    def forward(self, z):\n",
    "        hidden = self.softplus(self.fc1(z))\n",
    "        loc_img = self.sigmoid(self.fc2_1(hidden))\n",
    "        return loc_img"
   ]
  },
  {
   "cell_type": "code",
   "execution_count": 5,
   "metadata": {},
   "outputs": [],
   "source": [
    "class Encoder(nn.Module):\n",
    "    def __init__(self, z_dim, hidden_dim):\n",
    "        super().__init__()\n",
    "        \n",
    "        self.fc1 = nn.Linear(28*28, hidden_dim)\n",
    "        self.fc2_1 = nn.Linear(hidden_dim, z_dim)\n",
    "        self.fc2_2 = nn.Linear(hidden_dim, z_dim)\n",
    "\n",
    "        self.softplus = nn.Softplus() # NOTE: Reluだとどうなるのか\n",
    "        \n",
    "    def forward(self, x):\n",
    "        x = x.reshape(-1, 28*28)\n",
    "        \n",
    "        hidden = self.softplus(self.fc1(x))\n",
    "\n",
    "        z_loc = self.fc2_1(hidden)\n",
    "        z_scale = torch.exp(self.fc2_2(hidden))\n",
    "        return z_loc, z_scale"
   ]
  },
  {
   "cell_type": "code",
   "execution_count": 6,
   "metadata": {},
   "outputs": [],
   "source": [
    "class VAE(nn.Module):\n",
    "    def __init__(self, z_dim=50, hidden_dim=400, use_cuda=True):\n",
    "        super().__init__()\n",
    "        # エンコーダ、デコーダーの設定\n",
    "        self.encoder = Encoder(z_dim, hidden_dim)\n",
    "        self.decoder = Decoder(z_dim, hidden_dim)\n",
    "        \n",
    "        if use_cuda:\n",
    "            self.cuda()\n",
    "        self.use_cuda = use_cuda\n",
    "        self.z_dim = z_dim\n",
    "    \n",
    "    # モデル: p(x, z) = p(x|z)p(z)の定義\n",
    "    def model(self, x):\n",
    "        \"\"\"\n",
    "        Args:\n",
    "            x: ミニバッチ (batch_size, 28, 28)\n",
    "        \"\"\"\n",
    "        pyro.module(\"decoder\", self.decoder) # pyro.moduleに登録(Pyroがデコーダー内のパラメータを扱えるようになる)\n",
    "        \n",
    "        # plateを使うことでミニバッチ内の各画像同士は独立であることを表現する\n",
    "        with pyro.plate(\"data\", x.shape[0]):\n",
    "            # 事前確率p(z)のパラメータを設定する\n",
    "            z_loc = x.new_zeros(torch.Size((x.shape[0], self.z_dim)))\n",
    "            z_scale = x.new_ones(torch.Size((x.shape[0], self.z_dim)))\n",
    "        \n",
    "            # 多次元ガウス分布p(z)から潜在変数zのサンプリングを行う\n",
    "            # NOTE: to_event(1)ってなに？\n",
    "            # ANS: 一次元ガウス分布ではなく、多次元ガウス分布からのサンプリングであることを表現している\n",
    "            z = pyro.sample(\"latent\", dist.Normal(z_loc, z_scale).to_event(1))\n",
    "            \n",
    "            # Decoder: z -> x_{dec}\n",
    "            loc_img = self.decoder.forward(z)\n",
    "\n",
    "            # x_{dec}とxのスコアを計算する\n",
    "            # NOTE: ベルヌーイ分布はどこから出てきたの？\n",
    "            # NOTE: 多変量ベルヌーイ分布について想像が付かない\n",
    "            score = pyro.sample(\"obs\", dist.Bernoulli(loc_img).to_event(1), obs=x.reshape(-1, 784))\n",
    "            \n",
    "            return loc_img\n",
    "\n",
    "    def guide(self, x):\n",
    "        pyro.module(\"encoder\", self.encoder) # pyro.moduleに登録\n",
    "        \n",
    "        with pyro.plate(\"data\", x.shape[0]):\n",
    "            # Encoder: x->  多次元ガウス分布p(z)のパラメータ\n",
    "            z_loc, z_scale = self.encoder.forward(x)\n",
    "\n",
    "            # 多次元ガウス分布p(z)から潜在変数zのサンプリングを行う\n",
    "            pyro.sample(\"latent\", dist.Normal(z_loc, z_scale).to_event(1))\n",
    "\n",
    "    def reconstruct_img(self, x):\n",
    "        # Encoder: x->  多次元ガウス分布p(z)のパラメータ\n",
    "        z_loc, z_scale = self.encoder(x)\n",
    "        \n",
    "        # 多次元ガウス分布p(z)から潜在変数zのサンプリングを行う\n",
    "        z = dist.Normal(z_loc, z_scale).sample()\n",
    "\n",
    "        # Decoder: z -> x_{dec}\n",
    "        loc_img = self.decoder(z)\n",
    "        return loc_img\n",
    "\n"
   ]
  },
  {
   "cell_type": "code",
   "execution_count": 7,
   "metadata": {},
   "outputs": [],
   "source": [
    "vae = VAE()\n",
    "optimizer = Adam({\"lr\": 1.0e-3})\n",
    "svi = SVI(vae.model, vae.guide, optimizer, loss=Trace_ELBO())"
   ]
  },
  {
   "cell_type": "code",
   "execution_count": 8,
   "metadata": {},
   "outputs": [],
   "source": [
    "def train(svi, train_loader, use_cuda=False):\n",
    "    epoch_loss = 0.\n",
    "\n",
    "    for x, _ in train_loader:\n",
    "        if use_cuda:\n",
    "            x = x.cuda()\n",
    "        epoch_loss += svi.step(x)\n",
    "\n",
    "    normalizer_train = len(train_loader.dataset)\n",
    "    total_epoch_loss_train = epoch_loss / normalizer_train\n",
    "    return total_epoch_loss_train"
   ]
  },
  {
   "cell_type": "code",
   "execution_count": 9,
   "metadata": {},
   "outputs": [],
   "source": [
    "def evaluate(svi, test_loader, use_cuda=False):\n",
    "    test_loss = 0.\n",
    "\n",
    "    for x, _ in test_loader:\n",
    "\n",
    "        if use_cuda:\n",
    "            x = x.cuda()\n",
    "\n",
    "        test_loss += svi.evaluate_loss(x)\n",
    "    normalizer_test = len(test_loader.dataset)\n",
    "    total_epoch_loss_test = test_loss / normalizer_test\n",
    "    return total_epoch_loss_test"
   ]
  },
  {
   "cell_type": "code",
   "execution_count": 10,
   "metadata": {},
   "outputs": [],
   "source": [
    "# ハイパーパラメータの定義\n",
    "LEARNING_RATE = 1.0e-3\n",
    "NUM_EPOCHS =100\n",
    "TEST_FREQUENCY = 5\n",
    "\n",
    "USE_CUDA = True"
   ]
  },
  {
   "cell_type": "code",
   "execution_count": 11,
   "metadata": {
    "scrolled": true
   },
   "outputs": [
    {
     "name": "stdout",
     "output_type": "stream",
     "text": [
      "[epoch 000]  average training loss: 190.9314\n",
      "[epoch 000] average test loss: 155.9965\n",
      "[epoch 001]  average training loss: 146.7358\n",
      "[epoch 002]  average training loss: 132.5769\n",
      "[epoch 003]  average training loss: 124.0651\n",
      "[epoch 004]  average training loss: 118.9689\n",
      "[epoch 005]  average training loss: 115.5881\n",
      "[epoch 005] average test loss: 113.4225\n",
      "[epoch 006]  average training loss: 113.2782\n",
      "[epoch 007]  average training loss: 111.7045\n",
      "[epoch 008]  average training loss: 110.4743\n",
      "[epoch 009]  average training loss: 109.4423\n",
      "[epoch 010]  average training loss: 108.7002\n",
      "[epoch 010] average test loss: 107.5987\n",
      "[epoch 011]  average training loss: 108.0115\n",
      "[epoch 012]  average training loss: 107.4387\n",
      "[epoch 013]  average training loss: 107.0369\n",
      "[epoch 014]  average training loss: 106.6394\n",
      "[epoch 015]  average training loss: 106.2636\n",
      "[epoch 015] average test loss: 105.7384\n",
      "[epoch 016]  average training loss: 105.9814\n",
      "[epoch 017]  average training loss: 105.6996\n",
      "[epoch 018]  average training loss: 105.4668\n",
      "[epoch 019]  average training loss: 105.2597\n",
      "[epoch 020]  average training loss: 105.0494\n",
      "[epoch 020] average test loss: 104.6303\n",
      "[epoch 021]  average training loss: 104.8890\n",
      "[epoch 022]  average training loss: 104.6955\n",
      "[epoch 023]  average training loss: 104.5321\n",
      "[epoch 024]  average training loss: 104.4020\n",
      "[epoch 025]  average training loss: 104.2925\n",
      "[epoch 025] average test loss: 104.0230\n",
      "[epoch 026]  average training loss: 104.1595\n",
      "[epoch 027]  average training loss: 104.0629\n",
      "[epoch 028]  average training loss: 103.9271\n",
      "[epoch 029]  average training loss: 103.8197\n",
      "[epoch 030]  average training loss: 103.7697\n",
      "[epoch 030] average test loss: 103.6442\n",
      "[epoch 031]  average training loss: 103.6440\n",
      "[epoch 032]  average training loss: 103.5727\n",
      "[epoch 033]  average training loss: 103.4730\n",
      "[epoch 034]  average training loss: 103.4100\n",
      "[epoch 035]  average training loss: 103.3407\n",
      "[epoch 035] average test loss: 103.1509\n",
      "[epoch 036]  average training loss: 103.2436\n",
      "[epoch 037]  average training loss: 103.1811\n",
      "[epoch 038]  average training loss: 103.1618\n",
      "[epoch 039]  average training loss: 103.0852\n",
      "[epoch 040]  average training loss: 102.9625\n",
      "[epoch 040] average test loss: 103.0499\n",
      "[epoch 041]  average training loss: 102.9428\n",
      "[epoch 042]  average training loss: 102.8826\n",
      "[epoch 043]  average training loss: 102.8086\n",
      "[epoch 044]  average training loss: 102.7725\n",
      "[epoch 045]  average training loss: 102.7066\n",
      "[epoch 045] average test loss: 102.7199\n",
      "[epoch 046]  average training loss: 102.6973\n",
      "[epoch 047]  average training loss: 102.6215\n",
      "[epoch 048]  average training loss: 102.5523\n",
      "[epoch 049]  average training loss: 102.5159\n",
      "[epoch 050]  average training loss: 102.4696\n",
      "[epoch 050] average test loss: 102.6089\n",
      "[epoch 051]  average training loss: 102.4192\n",
      "[epoch 052]  average training loss: 102.3944\n",
      "[epoch 053]  average training loss: 102.3484\n",
      "[epoch 054]  average training loss: 102.2913\n",
      "[epoch 055]  average training loss: 102.2309\n",
      "[epoch 055] average test loss: 102.3524\n",
      "[epoch 056]  average training loss: 102.1930\n",
      "[epoch 057]  average training loss: 102.1642\n",
      "[epoch 058]  average training loss: 102.1443\n",
      "[epoch 059]  average training loss: 102.1054\n",
      "[epoch 060]  average training loss: 102.0689\n",
      "[epoch 060] average test loss: 102.1938\n",
      "[epoch 061]  average training loss: 101.9919\n",
      "[epoch 062]  average training loss: 101.9858\n",
      "[epoch 063]  average training loss: 101.9319\n",
      "[epoch 064]  average training loss: 101.9219\n",
      "[epoch 065]  average training loss: 101.8682\n",
      "[epoch 065] average test loss: 101.9109\n",
      "[epoch 066]  average training loss: 101.8240\n",
      "[epoch 067]  average training loss: 101.8238\n",
      "[epoch 068]  average training loss: 101.7577\n",
      "[epoch 069]  average training loss: 101.7414\n",
      "[epoch 070]  average training loss: 101.7141\n",
      "[epoch 070] average test loss: 101.8503\n",
      "[epoch 071]  average training loss: 101.7016\n",
      "[epoch 072]  average training loss: 101.6398\n",
      "[epoch 073]  average training loss: 101.6139\n",
      "[epoch 074]  average training loss: 101.5406\n",
      "[epoch 075]  average training loss: 101.5258\n",
      "[epoch 075] average test loss: 101.8122\n",
      "[epoch 076]  average training loss: 101.5306\n",
      "[epoch 077]  average training loss: 101.4947\n",
      "[epoch 078]  average training loss: 101.4269\n",
      "[epoch 079]  average training loss: 101.4247\n",
      "[epoch 080]  average training loss: 101.4015\n",
      "[epoch 080] average test loss: 101.4663\n",
      "[epoch 081]  average training loss: 101.3679\n",
      "[epoch 082]  average training loss: 101.3196\n",
      "[epoch 083]  average training loss: 101.3094\n",
      "[epoch 084]  average training loss: 101.2634\n",
      "[epoch 085]  average training loss: 101.2301\n",
      "[epoch 085] average test loss: 101.5082\n",
      "[epoch 086]  average training loss: 101.2351\n",
      "[epoch 087]  average training loss: 101.1796\n",
      "[epoch 088]  average training loss: 101.1452\n",
      "[epoch 089]  average training loss: 101.1494\n",
      "[epoch 090]  average training loss: 101.0956\n",
      "[epoch 090] average test loss: 101.4079\n",
      "[epoch 091]  average training loss: 101.0904\n",
      "[epoch 092]  average training loss: 101.0573\n",
      "[epoch 093]  average training loss: 101.0478\n",
      "[epoch 094]  average training loss: 100.9865\n",
      "[epoch 095]  average training loss: 100.9974\n",
      "[epoch 095] average test loss: 101.2541\n",
      "[epoch 096]  average training loss: 100.9712\n",
      "[epoch 097]  average training loss: 100.9324\n",
      "[epoch 098]  average training loss: 100.9020\n",
      "[epoch 099]  average training loss: 100.8710\n"
     ]
    }
   ],
   "source": [
    "train_loader, test_loader = setup_data_loaders(batch_size=256, use_cuda=USE_CUDA)\n",
    "\n",
    "# パラメータの初期化\n",
    "pyro.clear_param_store()\n",
    "\n",
    "vae = VAE(use_cuda=USE_CUDA)\n",
    "\n",
    "adam_args = {\"lr\": LEARNING_RATE}\n",
    "optimizer = Adam(adam_args)\n",
    "\n",
    "svi = SVI(vae.model, vae.guide, optimizer, loss=Trace_ELBO())\n",
    "\n",
    "train_elbo = []\n",
    "test_elbo = []\n",
    "for epoch in range(NUM_EPOCHS):\n",
    "    total_epoch_loss_train = train(svi, train_loader, use_cuda=USE_CUDA)\n",
    "    train_elbo.append(-total_epoch_loss_train)\n",
    "    print(\"[epoch %03d]  average training loss: %.4f\" % (epoch, total_epoch_loss_train))\n",
    "\n",
    "    if epoch % TEST_FREQUENCY == 0:\n",
    "        total_epoch_loss_test = evaluate(svi, test_loader, use_cuda=USE_CUDA)\n",
    "        test_elbo.append(-total_epoch_loss_test)\n",
    "        print(\"[epoch %03d] average test loss: %.4f\" % (epoch, total_epoch_loss_test))"
   ]
  },
  {
   "cell_type": "code",
   "execution_count": 28,
   "metadata": {},
   "outputs": [],
   "source": [
    "def draw_digit(data, row, col, n):\n",
    "    size = 28\n",
    "    plt.subplot(row, col, n)\n",
    "    plt.imshow(data)\n",
    "    plt.gray()"
   ]
  },
  {
   "cell_type": "code",
   "execution_count": 29,
   "metadata": {
    "scrolled": true
   },
   "outputs": [],
   "source": [
    "test_imgs = []\n",
    "reco_imgs = []\n",
    "for x, _ in test_loader:\n",
    "    for index in range(100):\n",
    "        test_img = x[index, :].to(\"cuda\")\n",
    "        reco_img = vae.reconstruct_img(test_img)\n",
    "        test_imgs.append(test_img.reshape(28, 28).detach().cpu().numpy())\n",
    "        reco_imgs.append(reco_img.reshape(28, 28).detach().cpu().numpy())\n",
    "    break"
   ]
  },
  {
   "cell_type": "markdown",
   "metadata": {},
   "source": [
    "## 元の画像"
   ]
  },
  {
   "cell_type": "code",
   "execution_count": 39,
   "metadata": {
    "scrolled": false
   },
   "outputs": [
    {
     "data": {
      "image/png": "[encoded data removed]",
      "text/plain": [
       "<Figure size 216x216 with 25 Axes>"
      ]
     },
     "metadata": {
      "needs_background": "light"
     },
     "output_type": "display_data"
    }
   ],
   "source": [
    "show_size = 5\n",
    "total = 0\n",
    "plt.figure(figsize=(3,3))\n",
    "for i in range(show_size):\n",
    "    for j in range(show_size):\n",
    "        draw_digit(test_imgs[total], show_size, show_size, total+1)\n",
    "        total += 1\n",
    "plt.show()"
   ]
  },
  {
   "cell_type": "markdown",
   "metadata": {},
   "source": [
    "## VAEを通した後の画像"
   ]
  },
  {
   "cell_type": "code",
   "execution_count": 40,
   "metadata": {},
   "outputs": [
    {
     "data": {
      "image/png": "[encoded data removed]",
      "text/plain": [
       "<Figure size 216x216 with 25 Axes>"
      ]
     },
     "metadata": {
      "needs_background": "light"
     },
     "output_type": "display_data"
    }
   ],
   "source": [
    "show_size = 5\n",
    "total = 0\n",
    "plt.figure(figsize=(3,3))\n",
    "for i in range(show_size):\n",
    "    for j in range(show_size):\n",
    "        draw_digit(reco_imgs[total], show_size, show_size, total+1)\n",
    "        total += 1\n",
    "plt.show()"
   ]
  }
 ],
 "metadata": {
  "kernelspec": {
   "display_name": "Python 3",
   "language": "python",
   "name": "python3"
  },
  "language_info": {
   "codemirror_mode": {
    "name": "ipython",
    "version": 3
   },
   "file_extension": ".py",
   "mimetype": "text/x-python",
   "name": "python",
   "nbconvert_exporter": "python",
   "pygments_lexer": "ipython3",
   "version": "3.7.1"
  }
 },
 "nbformat": 4,
 "nbformat_minor": 4
}
